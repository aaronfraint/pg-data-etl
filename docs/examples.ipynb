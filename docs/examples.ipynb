{
 "cells": [
  {
   "cell_type": "markdown",
   "id": "22eb6c58-5bdc-49b6-b528-1693f1ef5832",
   "metadata": {},
   "source": [
    "# This is the header 1\n",
    "\n",
    "paragraph text in markdown cell. with `code` example"
   ]
  },
  {
   "cell_type": "code",
   "execution_count": 1,
   "id": "7d447584-9bec-4ff0-8af0-3f6a6a81c508",
   "metadata": {},
   "outputs": [],
   "source": [
    "import pg_data_etl as pg"
   ]
  },
  {
   "cell_type": "markdown",
   "id": "2dd8afe0-935f-4276-bee8-de30cf22f61a",
   "metadata": {},
   "source": [
    "This is some more markdonw text.\n",
    "\n",
    "## header 2\n",
    "\n",
    "### Header 3\n",
    "\n",
    "---\n",
    "\n"
   ]
  },
  {
   "cell_type": "code",
   "execution_count": 2,
   "id": "b56a9dd7-9412-4b29-8b20-af8aec2254a6",
   "metadata": {},
   "outputs": [
    {
     "name": "stdout",
     "output_type": "stream",
     "text": [
      "does not have bin_path attr\n"
     ]
    }
   ],
   "source": [
    "db = pg.from_config(\"example_db\", \"localhost\")"
   ]
  },
  {
   "cell_type": "code",
   "execution_count": 3,
   "id": "eb0c9f11-c98a-4a75-b28e-7da0b6400f2a",
   "metadata": {},
   "outputs": [
    {
     "data": {
      "text/plain": [
       "'tippecanoe'"
      ]
     },
     "execution_count": 3,
     "metadata": {},
     "output_type": "execute_result"
    }
   ],
   "source": [
    "db.cmd.tippecanoe"
   ]
  },
  {
   "cell_type": "code",
   "execution_count": 4,
   "id": "1ca719af-5a4b-4432-8400-b3937b7c35ec",
   "metadata": {},
   "outputs": [],
   "source": [
    "db.cmd.set_bin_path(psql=\"/someplace\")"
   ]
  },
  {
   "cell_type": "code",
   "execution_count": 5,
   "id": "e77eb347-9436-4413-97ea-7bb0d5d744ae",
   "metadata": {},
   "outputs": [
    {
     "data": {
      "text/plain": [
       "PosixPath('/someplace/psql')"
      ]
     },
     "execution_count": 5,
     "metadata": {},
     "output_type": "execute_result"
    }
   ],
   "source": [
    "db.cmd.psql"
   ]
  },
  {
   "cell_type": "code",
   "execution_count": 6,
   "id": "257ff17d-f327-4998-8298-b0f73d883e19",
   "metadata": {},
   "outputs": [
    {
     "name": "stdout",
     "output_type": "stream",
     "text": [
      "does not have bin_path attr\n"
     ]
    }
   ],
   "source": [
    "db2 = pg.Database.from_parameters(\"example_db\")"
   ]
  },
  {
   "cell_type": "code",
   "execution_count": 7,
   "id": "d38015f7-7b77-420c-93c5-80636cd9fd35",
   "metadata": {},
   "outputs": [
    {
     "data": {
      "text/plain": [
       "'psql'"
      ]
     },
     "execution_count": 7,
     "metadata": {},
     "output_type": "execute_result"
    }
   ],
   "source": [
    "db2.cmd.psql"
   ]
  },
  {
   "cell_type": "code",
   "execution_count": 8,
   "id": "ec54f6eb-5c92-4b40-9067-40cb21da689a",
   "metadata": {},
   "outputs": [
    {
     "ename": "AttributeError",
     "evalue": "'Database' object has no attribute '_bin_paths'",
     "output_type": "error",
     "traceback": [
      "\u001b[0;31m---------------------------------------------------------------------------\u001b[0m",
      "\u001b[0;31mAttributeError\u001b[0m                            Traceback (most recent call last)",
      "\u001b[0;32m<ipython-input-8-ac33cb718043>\u001b[0m in \u001b[0;36m<module>\u001b[0;34m\u001b[0m\n\u001b[0;32m----> 1\u001b[0;31m \u001b[0mdb2\u001b[0m\u001b[0;34m.\u001b[0m\u001b[0m_bin_paths\u001b[0m\u001b[0;34m\u001b[0m\u001b[0;34m\u001b[0m\u001b[0m\n\u001b[0m",
      "\u001b[0;31mAttributeError\u001b[0m: 'Database' object has no attribute '_bin_paths'"
     ]
    }
   ],
   "source": [
    "db2._bin_paths"
   ]
  },
  {
   "cell_type": "code",
   "execution_count": null,
   "id": "4ecaf324-beaa-4c97-8d9f-9c4eb01e84ce",
   "metadata": {},
   "outputs": [],
   "source": []
  },
  {
   "cell_type": "code",
   "execution_count": null,
   "id": "1039fe2a-fef6-4080-923b-4677865b3efa",
   "metadata": {},
   "outputs": [],
   "source": [
    "db2 = pg.Database"
   ]
  },
  {
   "cell_type": "code",
   "execution_count": null,
   "id": "0b3d652a-2470-4a5d-ab75-a2b0eca18902",
   "metadata": {},
   "outputs": [],
   "source": [
    "db2 = pg.Database"
   ]
  },
  {
   "cell_type": "code",
   "execution_count": null,
   "id": "63520419-95c3-4e19-bbbf-4f31efb36bca",
   "metadata": {},
   "outputs": [],
   "source": [
    "db2 = pg.Database"
   ]
  }
 ],
 "metadata": {
  "kernelspec": {
   "display_name": "Python 3",
   "language": "python",
   "name": "python3"
  },
  "language_info": {
   "codemirror_mode": {
    "name": "ipython",
    "version": 3
   },
   "file_extension": ".py",
   "mimetype": "text/x-python",
   "name": "python",
   "nbconvert_exporter": "python",
   "pygments_lexer": "ipython3",
   "version": "3.8.5"
  }
 },
 "nbformat": 4,
 "nbformat_minor": 5
}
